{
 "cells": [
  {
   "cell_type": "markdown",
   "id": "ce7d9907",
   "metadata": {},
   "source": [
    "### dev_notebook_\n",
    "\n",
    "This is your development environment...you may start:\n",
    "- Exploring your data.\n",
    "- Testing the ad-hoc methods.\n",
    "- Designing your pipeline."
   ]
  },
  {
   "cell_type": "code",
   "execution_count": 1,
   "id": "34f39f9b",
   "metadata": {},
   "outputs": [],
   "source": [
    "import pandas as pd\n",
    "import requests as re\n",
    "from shapely.geometry import Point"
   ]
  },
  {
   "cell_type": "code",
   "execution_count": 2,
   "id": "5a31fa3e",
   "metadata": {},
   "outputs": [],
   "source": [
    "#LEEMOS NUESTRO FICHERO\n",
    "bicimad_df = pd.read_csv('../data/bicimad_stations.csv', sep = '\\t')"
   ]
  },
  {
   "cell_type": "code",
   "execution_count": 3,
   "id": "2e45a9d1",
   "metadata": {},
   "outputs": [],
   "source": [
    "#bicimad_df.info()"
   ]
  },
  {
   "cell_type": "code",
   "execution_count": 4,
   "id": "43f3806a",
   "metadata": {},
   "outputs": [],
   "source": [
    "#bicimad_df.info()"
   ]
  },
  {
   "cell_type": "code",
   "execution_count": 5,
   "id": "a8a1ada5",
   "metadata": {},
   "outputs": [
    {
     "data": {
      "text/plain": [
       "\"\\n\\nbicimad_df['longitude'] = bicimad_df.apply(lambda row: row[\\n    'geometry.coordinates'].strip('[]').split(', ')[0], \\n                                           axis=1)\\nbicimad_df['latitude'] = bicimad_df.apply(lambda row: row[\\n    'geometry.coordinates'].strip('[]').split(', ')[1], \\n                                          axis=1)\\n\""
      ]
     },
     "execution_count": 5,
     "metadata": {},
     "output_type": "execute_result"
    }
   ],
   "source": [
    "'''\n",
    "\n",
    "bicimad_df['longitude'] = bicimad_df.apply(lambda row: row[\n",
    "    'geometry.coordinates'].strip('[]').split(', ')[0], \n",
    "                                           axis=1)\n",
    "bicimad_df['latitude'] = bicimad_df.apply(lambda row: row[\n",
    "    'geometry.coordinates'].strip('[]').split(', ')[1], \n",
    "                                          axis=1)\n",
    "'''"
   ]
  },
  {
   "cell_type": "code",
   "execution_count": 37,
   "id": "fbb157fc",
   "metadata": {},
   "outputs": [
    {
     "name": "stdout",
     "output_type": "stream",
     "text": [
      "CPU times: user 41.2 ms, sys: 2.16 ms, total: 43.4 ms\n",
      "Wall time: 42.4 ms\n"
     ]
    }
   ],
   "source": [
    "\n",
    "#JUNTAMOS TODO EN UNA LINEA DE COMANDO PARA QUE PASE SOLO 1 VEZ POR EL DataFrame con pd.Series\n",
    "bicimad_df[['longitude', 'latitude']] = bicimad_df.apply(lambda row: pd.Series(\n",
    "    [row['geometry.coordinates'].strip('[]').split(', ')[0], \n",
    "     row['geometry.coordinates'].strip('[]').split(', ')[1]]), \n",
    "                                                           axis=1)"
   ]
  },
  {
   "cell_type": "code",
   "execution_count": 7,
   "id": "feb3ce93",
   "metadata": {},
   "outputs": [
    {
     "name": "stdout",
     "output_type": "stream",
     "text": [
      "<class 'pandas.core.frame.DataFrame'>\n",
      "RangeIndex: 264 entries, 0 to 263\n",
      "Data columns (total 16 columns):\n",
      " #   Column                Non-Null Count  Dtype \n",
      "---  ------                --------------  ----- \n",
      " 0   Unnamed: 0            264 non-null    int64 \n",
      " 1   id                    264 non-null    int64 \n",
      " 2   name                  264 non-null    object\n",
      " 3   light                 264 non-null    int64 \n",
      " 4   number                264 non-null    object\n",
      " 5   address               264 non-null    object\n",
      " 6   activate              264 non-null    int64 \n",
      " 7   no_available          264 non-null    int64 \n",
      " 8   total_bases           264 non-null    int64 \n",
      " 9   dock_bikes            264 non-null    int64 \n",
      " 10  free_bases            264 non-null    int64 \n",
      " 11  reservations_count    264 non-null    int64 \n",
      " 12  geometry.type         264 non-null    object\n",
      " 13  geometry.coordinates  264 non-null    object\n",
      " 14  longitude             264 non-null    object\n",
      " 15  latitude              264 non-null    object\n",
      "dtypes: int64(9), object(7)\n",
      "memory usage: 33.1+ KB\n"
     ]
    }
   ],
   "source": [
    "bicimad_df.info()"
   ]
  },
  {
   "cell_type": "code",
   "execution_count": 8,
   "id": "0e81d46b",
   "metadata": {},
   "outputs": [],
   "source": [
    "bicipark_df = pd.read_csv('../data/bicipark_stations.csv', sep=';')"
   ]
  },
  {
   "cell_type": "code",
   "execution_count": 35,
   "id": "e3280db4",
   "metadata": {},
   "outputs": [
    {
     "name": "stdout",
     "output_type": "stream",
     "text": [
      "CPU times: user 1.37 ms, sys: 51 µs, total: 1.43 ms\n",
      "Wall time: 1.39 ms\n"
     ]
    }
   ],
   "source": [
    "%%time\n",
    "#SEPARADO\n",
    "bicipark_df['longitude'] = bicipark_df.apply(lambda row: row[\n",
    "'geometry.coordinates'].strip('[]').split(', ')[0], axis=1)\n",
    "\n",
    "bicipark_df['latitude'] = bicipark_df.apply(lambda row: row[\n",
    "'geometry.coordinates'].strip('[]').split(', ')[1], axis=1)"
   ]
  },
  {
   "cell_type": "code",
   "execution_count": 36,
   "id": "3a92dd6e",
   "metadata": {},
   "outputs": [
    {
     "name": "stdout",
     "output_type": "stream",
     "text": [
      "CPU times: user 2.68 ms, sys: 26 µs, total: 2.71 ms\n",
      "Wall time: 2.69 ms\n"
     ]
    }
   ],
   "source": [
    "%%time\n",
    "#JUNTAMOS TODO EN UNA LINEA DE COMANDO PARA QUE PASE SOLO 1 VEZ POR EL DataFrame con pd.Series\n",
    "bicipark_df[['longitude', 'latitude']] = bicipark_df.apply(lambda row: pd.Series(\n",
    "    [row['geometry.coordinates'].strip('[]').split(', ')[0], \n",
    "     row['geometry.coordinates'].strip('[]').split(', ')[1]]), \n",
    "                                                           axis=1)"
   ]
  },
  {
   "cell_type": "code",
   "execution_count": 11,
   "id": "66f50ab4",
   "metadata": {},
   "outputs": [
    {
     "name": "stdout",
     "output_type": "stream",
     "text": [
      "<class 'pandas.core.frame.DataFrame'>\n",
      "RangeIndex: 11 entries, 0 to 10\n",
      "Data columns (total 14 columns):\n",
      " #   Column                Non-Null Count  Dtype \n",
      "---  ------                --------------  ----- \n",
      " 0   Unnamed: 0            11 non-null     int64 \n",
      " 1   stationId             11 non-null     int64 \n",
      " 2   stationName           11 non-null     object\n",
      " 3   address               11 non-null     object\n",
      " 4   city                  11 non-null     object\n",
      " 5   zip_code              11 non-null     object\n",
      " 6   total_places          11 non-null     int64 \n",
      " 7   free_places           11 non-null     int64 \n",
      " 8   enabled               11 non-null     int64 \n",
      " 9   reserved_places       11 non-null     int64 \n",
      " 10  geometry.type         11 non-null     object\n",
      " 11  geometry.coordinates  11 non-null     object\n",
      " 12  longitude             11 non-null     object\n",
      " 13  latitude              11 non-null     object\n",
      "dtypes: int64(6), object(8)\n",
      "memory usage: 1.3+ KB\n"
     ]
    }
   ],
   "source": [
    "bicipark_df.info()"
   ]
  },
  {
   "cell_type": "code",
   "execution_count": 12,
   "id": "4c24217f",
   "metadata": {},
   "outputs": [
    {
     "name": "stdout",
     "output_type": "stream",
     "text": [
      "Index(['stationId', 'stationName', 'address', 'longitude', 'latitude'], dtype='object')\n"
     ]
    }
   ],
   "source": [
    "bicipark_clean = bicipark_df[['stationId', 'stationName', 'address','longitude', 'latitude']]\n",
    "bicipark_clean.tail(3)\n",
    "print(bicipark_clean.columns)"
   ]
  },
  {
   "cell_type": "code",
   "execution_count": 13,
   "id": "44266333",
   "metadata": {},
   "outputs": [
    {
     "name": "stdout",
     "output_type": "stream",
     "text": [
      "<Response [200]>\n"
     ]
    }
   ],
   "source": [
    "#CONECTAMOS CON LA WEB PARA OBTENER JSON\n",
    "base_url = \"https://datos.madrid.es/egob\"\n",
    "body = \"/catalogo/209434-0-templos-otros.json\"\n",
    "response = re.get(base_url + body)\n",
    "print(response)"
   ]
  },
  {
   "cell_type": "code",
   "execution_count": 14,
   "id": "bc094090",
   "metadata": {
    "scrolled": true
   },
   "outputs": [
    {
     "data": {
      "text/plain": [
       "dict_keys(['@context', '@graph'])"
      ]
     },
     "execution_count": 14,
     "metadata": {},
     "output_type": "execute_result"
    }
   ],
   "source": [
    "#ANALIZAMOS JSON TEMPLOS\n",
    "content = response.content\n",
    "json_data = response.json()\n",
    "json_data.keys()"
   ]
  },
  {
   "cell_type": "code",
   "execution_count": 15,
   "id": "0c066637",
   "metadata": {},
   "outputs": [
    {
     "data": {
      "text/plain": [
       "dict_keys(['@context', '@graph'])"
      ]
     },
     "execution_count": 15,
     "metadata": {},
     "output_type": "execute_result"
    }
   ],
   "source": [
    "json_data.keys()"
   ]
  },
  {
   "cell_type": "code",
   "execution_count": 16,
   "id": "15ef1317",
   "metadata": {},
   "outputs": [],
   "source": [
    "templos = pd.DataFrame(json_data['@graph'])"
   ]
  },
  {
   "cell_type": "code",
   "execution_count": 17,
   "id": "529c902d",
   "metadata": {},
   "outputs": [],
   "source": [
    "def separator_longitud_json(column): #devuelve valor como float64\n",
    "    for i in column:\n",
    "        return column[\"longitude\"]\n",
    "def separator_latitud_json(column): #devuelve valor como float64\n",
    "    for i in column:\n",
    "        return column[\"latitude\"]"
   ]
  },
  {
   "cell_type": "code",
   "execution_count": 18,
   "id": "68c59ef3-3b59-44b1-b031-2d4811181e55",
   "metadata": {},
   "outputs": [],
   "source": [
    "templos['longitude'] = templos.apply(lambda row: separator_longitud_json(row[\"location\"]), axis=1)\n",
    "templos['latitude'] = templos.apply(lambda row: separator_latitud_json(row[\"location\"]), axis=1)"
   ]
  },
  {
   "cell_type": "code",
   "execution_count": 19,
   "id": "57bdbd4a-b73f-4f7a-928c-917725b24bc1",
   "metadata": {},
   "outputs": [
    {
     "data": {
      "text/html": [
       "<div>\n",
       "<style scoped>\n",
       "    .dataframe tbody tr th:only-of-type {\n",
       "        vertical-align: middle;\n",
       "    }\n",
       "\n",
       "    .dataframe tbody tr th {\n",
       "        vertical-align: top;\n",
       "    }\n",
       "\n",
       "    .dataframe thead th {\n",
       "        text-align: right;\n",
       "    }\n",
       "</style>\n",
       "<table border=\"1\" class=\"dataframe\">\n",
       "  <thead>\n",
       "    <tr style=\"text-align: right;\">\n",
       "      <th></th>\n",
       "      <th>@id</th>\n",
       "      <th>@type</th>\n",
       "      <th>id</th>\n",
       "      <th>title</th>\n",
       "      <th>relation</th>\n",
       "      <th>address</th>\n",
       "      <th>location</th>\n",
       "      <th>organization</th>\n",
       "      <th>longitude</th>\n",
       "      <th>latitude</th>\n",
       "    </tr>\n",
       "  </thead>\n",
       "  <tbody>\n",
       "    <tr>\n",
       "      <th>0</th>\n",
       "      <td>https://datos.madrid.es/egob/catalogo/tipo/ent...</td>\n",
       "      <td>https://datos.madrid.es/egob/kos/entidadesYorg...</td>\n",
       "      <td>11772877</td>\n",
       "      <td>Asamblea Cristiana Gilgal</td>\n",
       "      <td>http://www.madrid.es/sites/v/index.jsp?vgnextc...</td>\n",
       "      <td>{'district': {'@id': 'https://datos.madrid.es/...</td>\n",
       "      <td>{'latitude': 40.38724931072868, 'longitude': -...</td>\n",
       "      <td>{'organization-desc': 'Templo evangélico.  Bus...</td>\n",
       "      <td>-3.638521</td>\n",
       "      <td>40.387249</td>\n",
       "    </tr>\n",
       "    <tr>\n",
       "      <th>1</th>\n",
       "      <td>https://datos.madrid.es/egob/catalogo/tipo/ent...</td>\n",
       "      <td>https://datos.madrid.es/egob/kos/entidadesYorg...</td>\n",
       "      <td>11025958</td>\n",
       "      <td>Asambleas de Evangelización Mundial para Crist...</td>\n",
       "      <td>http://www.madrid.es/sites/v/index.jsp?vgnextc...</td>\n",
       "      <td>{'district': {'@id': 'https://datos.madrid.es/...</td>\n",
       "      <td>{'latitude': 40.372800292475574, 'longitude': ...</td>\n",
       "      <td>{'organization-desc': 'Templo evangélico  Metr...</td>\n",
       "      <td>-3.745074</td>\n",
       "      <td>40.372800</td>\n",
       "    </tr>\n",
       "    <tr>\n",
       "      <th>2</th>\n",
       "      <td>https://datos.madrid.es/egob/catalogo/tipo/ent...</td>\n",
       "      <td>https://datos.madrid.es/egob/kos/entidadesYorg...</td>\n",
       "      <td>11026848</td>\n",
       "      <td>Asociación Evangélica Internacional</td>\n",
       "      <td>http://www.madrid.es/sites/v/index.jsp?vgnextc...</td>\n",
       "      <td>{'district': {'@id': 'https://datos.madrid.es/...</td>\n",
       "      <td>{'latitude': 40.457895405861926, 'longitude': ...</td>\n",
       "      <td>{'organization-desc': 'Templo evangélico.  Met...</td>\n",
       "      <td>-3.670675</td>\n",
       "      <td>40.457895</td>\n",
       "    </tr>\n",
       "    <tr>\n",
       "      <th>3</th>\n",
       "      <td>https://datos.madrid.es/egob/catalogo/tipo/ent...</td>\n",
       "      <td>https://datos.madrid.es/egob/kos/entidadesYorg...</td>\n",
       "      <td>3387</td>\n",
       "      <td>Catedral Anglicana de Madrid</td>\n",
       "      <td>http://www.madrid.es/sites/v/index.jsp?vgnextc...</td>\n",
       "      <td>{'district': {'@id': 'https://datos.madrid.es/...</td>\n",
       "      <td>{'latitude': 40.42635538209311, 'longitude': -...</td>\n",
       "      <td>{'organization-desc': 'Iglesia Española Reform...</td>\n",
       "      <td>-3.698666</td>\n",
       "      <td>40.426355</td>\n",
       "    </tr>\n",
       "    <tr>\n",
       "      <th>4</th>\n",
       "      <td>https://datos.madrid.es/egob/catalogo/tipo/ent...</td>\n",
       "      <td>https://datos.madrid.es/egob/kos/entidadesYorg...</td>\n",
       "      <td>3388</td>\n",
       "      <td>Catedral Ortodoxa Griega. Santa Iglesia Catedr...</td>\n",
       "      <td>http://www.madrid.es/sites/v/index.jsp?vgnextc...</td>\n",
       "      <td>{'district': {'@id': 'https://datos.madrid.es/...</td>\n",
       "      <td>{'latitude': 40.45755529500435, 'longitude': -...</td>\n",
       "      <td>{'organization-desc': '  Metro: Colombia (líne...</td>\n",
       "      <td>-3.672895</td>\n",
       "      <td>40.457555</td>\n",
       "    </tr>\n",
       "  </tbody>\n",
       "</table>\n",
       "</div>"
      ],
      "text/plain": [
       "                                                 @id  \\\n",
       "0  https://datos.madrid.es/egob/catalogo/tipo/ent...   \n",
       "1  https://datos.madrid.es/egob/catalogo/tipo/ent...   \n",
       "2  https://datos.madrid.es/egob/catalogo/tipo/ent...   \n",
       "3  https://datos.madrid.es/egob/catalogo/tipo/ent...   \n",
       "4  https://datos.madrid.es/egob/catalogo/tipo/ent...   \n",
       "\n",
       "                                               @type        id  \\\n",
       "0  https://datos.madrid.es/egob/kos/entidadesYorg...  11772877   \n",
       "1  https://datos.madrid.es/egob/kos/entidadesYorg...  11025958   \n",
       "2  https://datos.madrid.es/egob/kos/entidadesYorg...  11026848   \n",
       "3  https://datos.madrid.es/egob/kos/entidadesYorg...      3387   \n",
       "4  https://datos.madrid.es/egob/kos/entidadesYorg...      3388   \n",
       "\n",
       "                                               title  \\\n",
       "0                          Asamblea Cristiana Gilgal   \n",
       "1  Asambleas de Evangelización Mundial para Crist...   \n",
       "2                Asociación Evangélica Internacional   \n",
       "3                       Catedral Anglicana de Madrid   \n",
       "4  Catedral Ortodoxa Griega. Santa Iglesia Catedr...   \n",
       "\n",
       "                                            relation  \\\n",
       "0  http://www.madrid.es/sites/v/index.jsp?vgnextc...   \n",
       "1  http://www.madrid.es/sites/v/index.jsp?vgnextc...   \n",
       "2  http://www.madrid.es/sites/v/index.jsp?vgnextc...   \n",
       "3  http://www.madrid.es/sites/v/index.jsp?vgnextc...   \n",
       "4  http://www.madrid.es/sites/v/index.jsp?vgnextc...   \n",
       "\n",
       "                                             address  \\\n",
       "0  {'district': {'@id': 'https://datos.madrid.es/...   \n",
       "1  {'district': {'@id': 'https://datos.madrid.es/...   \n",
       "2  {'district': {'@id': 'https://datos.madrid.es/...   \n",
       "3  {'district': {'@id': 'https://datos.madrid.es/...   \n",
       "4  {'district': {'@id': 'https://datos.madrid.es/...   \n",
       "\n",
       "                                            location  \\\n",
       "0  {'latitude': 40.38724931072868, 'longitude': -...   \n",
       "1  {'latitude': 40.372800292475574, 'longitude': ...   \n",
       "2  {'latitude': 40.457895405861926, 'longitude': ...   \n",
       "3  {'latitude': 40.42635538209311, 'longitude': -...   \n",
       "4  {'latitude': 40.45755529500435, 'longitude': -...   \n",
       "\n",
       "                                        organization  longitude   latitude  \n",
       "0  {'organization-desc': 'Templo evangélico.  Bus...  -3.638521  40.387249  \n",
       "1  {'organization-desc': 'Templo evangélico  Metr...  -3.745074  40.372800  \n",
       "2  {'organization-desc': 'Templo evangélico.  Met...  -3.670675  40.457895  \n",
       "3  {'organization-desc': 'Iglesia Española Reform...  -3.698666  40.426355  \n",
       "4  {'organization-desc': '  Metro: Colombia (líne...  -3.672895  40.457555  "
      ]
     },
     "execution_count": 19,
     "metadata": {},
     "output_type": "execute_result"
    }
   ],
   "source": [
    "templos.head()"
   ]
  },
  {
   "cell_type": "code",
   "execution_count": 20,
   "id": "bdbc17ac",
   "metadata": {},
   "outputs": [
    {
     "name": "stdout",
     "output_type": "stream",
     "text": [
      "<class 'pandas.core.frame.DataFrame'>\n",
      "RangeIndex: 298 entries, 0 to 297\n",
      "Data columns (total 10 columns):\n",
      " #   Column        Non-Null Count  Dtype  \n",
      "---  ------        --------------  -----  \n",
      " 0   @id           298 non-null    object \n",
      " 1   @type         298 non-null    object \n",
      " 2   id            298 non-null    object \n",
      " 3   title         298 non-null    object \n",
      " 4   relation      298 non-null    object \n",
      " 5   address       298 non-null    object \n",
      " 6   location      298 non-null    object \n",
      " 7   organization  298 non-null    object \n",
      " 8   longitude     298 non-null    float64\n",
      " 9   latitude      298 non-null    float64\n",
      "dtypes: float64(2), object(8)\n",
      "memory usage: 23.4+ KB\n"
     ]
    }
   ],
   "source": [
    "templos.info()"
   ]
  },
  {
   "cell_type": "code",
   "execution_count": 21,
   "id": "797dfc30",
   "metadata": {},
   "outputs": [
    {
     "data": {
      "text/html": [
       "<div>\n",
       "<style scoped>\n",
       "    .dataframe tbody tr th:only-of-type {\n",
       "        vertical-align: middle;\n",
       "    }\n",
       "\n",
       "    .dataframe tbody tr th {\n",
       "        vertical-align: top;\n",
       "    }\n",
       "\n",
       "    .dataframe thead th {\n",
       "        text-align: right;\n",
       "    }\n",
       "</style>\n",
       "<table border=\"1\" class=\"dataframe\">\n",
       "  <thead>\n",
       "    <tr style=\"text-align: right;\">\n",
       "      <th></th>\n",
       "      <th>id</th>\n",
       "      <th>title</th>\n",
       "      <th>longitude</th>\n",
       "      <th>latitude</th>\n",
       "    </tr>\n",
       "  </thead>\n",
       "  <tbody>\n",
       "    <tr>\n",
       "      <th>295</th>\n",
       "      <td>11778015</td>\n",
       "      <td>Unión de Iglesias Cristianas Adventistas del 7...</td>\n",
       "      <td>-3.751562</td>\n",
       "      <td>40.389475</td>\n",
       "    </tr>\n",
       "    <tr>\n",
       "      <th>296</th>\n",
       "      <td>11744860</td>\n",
       "      <td>Unión de Iglesias Cristianas Adventistas del 7...</td>\n",
       "      <td>-3.738156</td>\n",
       "      <td>40.394823</td>\n",
       "    </tr>\n",
       "    <tr>\n",
       "      <th>297</th>\n",
       "      <td>11773010</td>\n",
       "      <td>Yoido Full Gospel Madrid Church</td>\n",
       "      <td>-3.709605</td>\n",
       "      <td>40.460551</td>\n",
       "    </tr>\n",
       "  </tbody>\n",
       "</table>\n",
       "</div>"
      ],
      "text/plain": [
       "           id                                              title  longitude  \\\n",
       "295  11778015  Unión de Iglesias Cristianas Adventistas del 7...  -3.751562   \n",
       "296  11744860  Unión de Iglesias Cristianas Adventistas del 7...  -3.738156   \n",
       "297  11773010                    Yoido Full Gospel Madrid Church  -3.709605   \n",
       "\n",
       "      latitude  \n",
       "295  40.389475  \n",
       "296  40.394823  \n",
       "297  40.460551  "
      ]
     },
     "execution_count": 21,
     "metadata": {},
     "output_type": "execute_result"
    }
   ],
   "source": [
    "templos_clean = templos[['id','title','longitude','latitude']]\n",
    "templos_clean.tail(3)"
   ]
  },
  {
   "cell_type": "code",
   "execution_count": 22,
   "id": "6733c125-3307-480f-a183-4a0801651754",
   "metadata": {},
   "outputs": [],
   "source": [
    "bicimad_clean = bicimad_df[['id','name','address','longitude','latitude']]"
   ]
  },
  {
   "cell_type": "code",
   "execution_count": 23,
   "id": "64052fd4",
   "metadata": {},
   "outputs": [
    {
     "data": {
      "text/html": [
       "<div>\n",
       "<style scoped>\n",
       "    .dataframe tbody tr th:only-of-type {\n",
       "        vertical-align: middle;\n",
       "    }\n",
       "\n",
       "    .dataframe tbody tr th {\n",
       "        vertical-align: top;\n",
       "    }\n",
       "\n",
       "    .dataframe thead th {\n",
       "        text-align: right;\n",
       "    }\n",
       "</style>\n",
       "<table border=\"1\" class=\"dataframe\">\n",
       "  <thead>\n",
       "    <tr style=\"text-align: right;\">\n",
       "      <th></th>\n",
       "      <th>id</th>\n",
       "      <th>name</th>\n",
       "      <th>address</th>\n",
       "      <th>longitude</th>\n",
       "      <th>latitude</th>\n",
       "    </tr>\n",
       "  </thead>\n",
       "  <tbody>\n",
       "    <tr>\n",
       "      <th>0</th>\n",
       "      <td>1</td>\n",
       "      <td>1a - Puerta del Sol A</td>\n",
       "      <td>Puerta del Sol nº 1</td>\n",
       "      <td>-3.7018341</td>\n",
       "      <td>40.4172137</td>\n",
       "    </tr>\n",
       "    <tr>\n",
       "      <th>1</th>\n",
       "      <td>2</td>\n",
       "      <td>1b - Puerta del Sol B</td>\n",
       "      <td>Puerta del Sol nº 1</td>\n",
       "      <td>-3.701602938060457</td>\n",
       "      <td>40.41731271011562</td>\n",
       "    </tr>\n",
       "  </tbody>\n",
       "</table>\n",
       "</div>"
      ],
      "text/plain": [
       "   id                   name              address           longitude  \\\n",
       "0   1  1a - Puerta del Sol A  Puerta del Sol nº 1          -3.7018341   \n",
       "1   2  1b - Puerta del Sol B  Puerta del Sol nº 1  -3.701602938060457   \n",
       "\n",
       "            latitude  \n",
       "0         40.4172137  \n",
       "1  40.41731271011562  "
      ]
     },
     "execution_count": 23,
     "metadata": {},
     "output_type": "execute_result"
    }
   ],
   "source": [
    "bicimad_clean.head(2)"
   ]
  },
  {
   "cell_type": "code",
   "execution_count": 24,
   "id": "5769ef2d",
   "metadata": {},
   "outputs": [
    {
     "data": {
      "text/plain": [
       "\"\\nbicimad_clean 'id', 'name', 'address', 'longitude', 'latitude'\\n\\nbicipark_clean 'stationId', 'stationName', 'longitude', 'latitude'\\n\\ntemplos_clean 'id', 'title', 'address', 'longitude', 'latitude'\\n\\n\""
      ]
     },
     "execution_count": 24,
     "metadata": {},
     "output_type": "execute_result"
    }
   ],
   "source": [
    "\"\"\"\n",
    "bicimad_clean 'id', 'name', 'address', 'longitude', 'latitude'\n",
    "\n",
    "bicipark_clean 'stationId', 'stationName', 'longitude', 'latitude'\n",
    "\n",
    "templos_clean 'id', 'title', 'address', 'longitude', 'latitude'\n",
    "\n",
    "\"\"\""
   ]
  },
  {
   "cell_type": "code",
   "execution_count": 25,
   "id": "76eb06db",
   "metadata": {},
   "outputs": [],
   "source": [
    "from geopy.distance import geodesic"
   ]
  },
  {
   "cell_type": "code",
   "execution_count": 26,
   "id": "6ad8617d",
   "metadata": {},
   "outputs": [
    {
     "data": {
      "text/html": [
       "<div>\n",
       "<style scoped>\n",
       "    .dataframe tbody tr th:only-of-type {\n",
       "        vertical-align: middle;\n",
       "    }\n",
       "\n",
       "    .dataframe tbody tr th {\n",
       "        vertical-align: top;\n",
       "    }\n",
       "\n",
       "    .dataframe thead th {\n",
       "        text-align: right;\n",
       "    }\n",
       "</style>\n",
       "<table border=\"1\" class=\"dataframe\">\n",
       "  <thead>\n",
       "    <tr style=\"text-align: right;\">\n",
       "      <th></th>\n",
       "      <th>id</th>\n",
       "      <th>title</th>\n",
       "      <th>longitude</th>\n",
       "      <th>latitude</th>\n",
       "    </tr>\n",
       "  </thead>\n",
       "  <tbody>\n",
       "    <tr>\n",
       "      <th>0</th>\n",
       "      <td>11772877</td>\n",
       "      <td>Asamblea Cristiana Gilgal</td>\n",
       "      <td>-3.638521</td>\n",
       "      <td>40.387249</td>\n",
       "    </tr>\n",
       "    <tr>\n",
       "      <th>1</th>\n",
       "      <td>11025958</td>\n",
       "      <td>Asambleas de Evangelización Mundial para Crist...</td>\n",
       "      <td>-3.745074</td>\n",
       "      <td>40.372800</td>\n",
       "    </tr>\n",
       "    <tr>\n",
       "      <th>2</th>\n",
       "      <td>11026848</td>\n",
       "      <td>Asociación Evangélica Internacional</td>\n",
       "      <td>-3.670675</td>\n",
       "      <td>40.457895</td>\n",
       "    </tr>\n",
       "    <tr>\n",
       "      <th>3</th>\n",
       "      <td>3387</td>\n",
       "      <td>Catedral Anglicana de Madrid</td>\n",
       "      <td>-3.698666</td>\n",
       "      <td>40.426355</td>\n",
       "    </tr>\n",
       "    <tr>\n",
       "      <th>4</th>\n",
       "      <td>3388</td>\n",
       "      <td>Catedral Ortodoxa Griega. Santa Iglesia Catedr...</td>\n",
       "      <td>-3.672895</td>\n",
       "      <td>40.457555</td>\n",
       "    </tr>\n",
       "  </tbody>\n",
       "</table>\n",
       "</div>"
      ],
      "text/plain": [
       "         id                                              title  longitude  \\\n",
       "0  11772877                          Asamblea Cristiana Gilgal  -3.638521   \n",
       "1  11025958  Asambleas de Evangelización Mundial para Crist...  -3.745074   \n",
       "2  11026848                Asociación Evangélica Internacional  -3.670675   \n",
       "3      3387                       Catedral Anglicana de Madrid  -3.698666   \n",
       "4      3388  Catedral Ortodoxa Griega. Santa Iglesia Catedr...  -3.672895   \n",
       "\n",
       "    latitude  \n",
       "0  40.387249  \n",
       "1  40.372800  \n",
       "2  40.457895  \n",
       "3  40.426355  \n",
       "4  40.457555  "
      ]
     },
     "execution_count": 26,
     "metadata": {},
     "output_type": "execute_result"
    }
   ],
   "source": [
    "# CREAMOS UN NUEVO DATAFRAME\n",
    "templos_con_distancia = templos_clean.copy()\n",
    "\n",
    "templos_con_distancia.head()"
   ]
  },
  {
   "cell_type": "code",
   "execution_count": 27,
   "id": "42bb9443",
   "metadata": {},
   "outputs": [],
   "source": [
    "# CREAMOS UN NUEVO DATAFRAME\n",
    "templos_con_distancia = templos_clean.copy()"
   ]
  },
  {
   "cell_type": "code",
   "execution_count": 28,
   "id": "bc5d10a1",
   "metadata": {},
   "outputs": [
    {
     "name": "stdout",
     "output_type": "stream",
     "text": [
      "CPU times: user 17.2 s, sys: 88.2 ms, total: 17.3 s\n",
      "Wall time: 17.3 s\n"
     ]
    }
   ],
   "source": [
    "%%time\n",
    "# WINNER!!!!!\n",
    "templos_con_distancia['distancia_minima'] = templos_con_distancia.apply(lambda row: min(\n",
    "    geodesic((row['latitude'], row['longitude']), (line['latitude'], line['longitude'])).meters\n",
    "    for _, line in bicimad_clean.iterrows()), axis=1).copy()\n",
    "\n"
   ]
  },
  {
   "cell_type": "code",
   "execution_count": 29,
   "id": "f9e612df",
   "metadata": {},
   "outputs": [
    {
     "data": {
      "text/html": [
       "<div>\n",
       "<style scoped>\n",
       "    .dataframe tbody tr th:only-of-type {\n",
       "        vertical-align: middle;\n",
       "    }\n",
       "\n",
       "    .dataframe tbody tr th {\n",
       "        vertical-align: top;\n",
       "    }\n",
       "\n",
       "    .dataframe thead th {\n",
       "        text-align: right;\n",
       "    }\n",
       "</style>\n",
       "<table border=\"1\" class=\"dataframe\">\n",
       "  <thead>\n",
       "    <tr style=\"text-align: right;\">\n",
       "      <th></th>\n",
       "      <th>id</th>\n",
       "      <th>title</th>\n",
       "      <th>longitude</th>\n",
       "      <th>latitude</th>\n",
       "      <th>distancia_minima</th>\n",
       "    </tr>\n",
       "  </thead>\n",
       "  <tbody>\n",
       "    <tr>\n",
       "      <th>0</th>\n",
       "      <td>11772877</td>\n",
       "      <td>Asamblea Cristiana Gilgal</td>\n",
       "      <td>-3.638521</td>\n",
       "      <td>40.387249</td>\n",
       "      <td>1494.529207</td>\n",
       "    </tr>\n",
       "    <tr>\n",
       "      <th>1</th>\n",
       "      <td>11025958</td>\n",
       "      <td>Asambleas de Evangelización Mundial para Crist...</td>\n",
       "      <td>-3.745074</td>\n",
       "      <td>40.372800</td>\n",
       "      <td>3719.349550</td>\n",
       "    </tr>\n",
       "    <tr>\n",
       "      <th>2</th>\n",
       "      <td>11026848</td>\n",
       "      <td>Asociación Evangélica Internacional</td>\n",
       "      <td>-3.670675</td>\n",
       "      <td>40.457895</td>\n",
       "      <td>486.250462</td>\n",
       "    </tr>\n",
       "    <tr>\n",
       "      <th>3</th>\n",
       "      <td>3387</td>\n",
       "      <td>Catedral Anglicana de Madrid</td>\n",
       "      <td>-3.698666</td>\n",
       "      <td>40.426355</td>\n",
       "      <td>149.990785</td>\n",
       "    </tr>\n",
       "    <tr>\n",
       "      <th>4</th>\n",
       "      <td>3388</td>\n",
       "      <td>Catedral Ortodoxa Griega. Santa Iglesia Catedr...</td>\n",
       "      <td>-3.672895</td>\n",
       "      <td>40.457555</td>\n",
       "      <td>294.549185</td>\n",
       "    </tr>\n",
       "    <tr>\n",
       "      <th>...</th>\n",
       "      <td>...</td>\n",
       "      <td>...</td>\n",
       "      <td>...</td>\n",
       "      <td>...</td>\n",
       "      <td>...</td>\n",
       "    </tr>\n",
       "    <tr>\n",
       "      <th>293</th>\n",
       "      <td>11768905</td>\n",
       "      <td>Unión de Iglesias Cristianas Adventistas del 7...</td>\n",
       "      <td>-3.608022</td>\n",
       "      <td>40.424746</td>\n",
       "      <td>2851.695686</td>\n",
       "    </tr>\n",
       "    <tr>\n",
       "      <th>294</th>\n",
       "      <td>7065947</td>\n",
       "      <td>Unión de Iglesias Cristianas Adventistas del 7...</td>\n",
       "      <td>-3.649838</td>\n",
       "      <td>40.430251</td>\n",
       "      <td>295.869712</td>\n",
       "    </tr>\n",
       "    <tr>\n",
       "      <th>295</th>\n",
       "      <td>11778015</td>\n",
       "      <td>Unión de Iglesias Cristianas Adventistas del 7...</td>\n",
       "      <td>-3.751562</td>\n",
       "      <td>40.389475</td>\n",
       "      <td>2930.645985</td>\n",
       "    </tr>\n",
       "    <tr>\n",
       "      <th>296</th>\n",
       "      <td>11744860</td>\n",
       "      <td>Unión de Iglesias Cristianas Adventistas del 7...</td>\n",
       "      <td>-3.738156</td>\n",
       "      <td>40.394823</td>\n",
       "      <td>1768.087468</td>\n",
       "    </tr>\n",
       "    <tr>\n",
       "      <th>297</th>\n",
       "      <td>11773010</td>\n",
       "      <td>Yoido Full Gospel Madrid Church</td>\n",
       "      <td>-3.709605</td>\n",
       "      <td>40.460551</td>\n",
       "      <td>445.137898</td>\n",
       "    </tr>\n",
       "  </tbody>\n",
       "</table>\n",
       "<p>298 rows × 5 columns</p>\n",
       "</div>"
      ],
      "text/plain": [
       "           id                                              title  longitude  \\\n",
       "0    11772877                          Asamblea Cristiana Gilgal  -3.638521   \n",
       "1    11025958  Asambleas de Evangelización Mundial para Crist...  -3.745074   \n",
       "2    11026848                Asociación Evangélica Internacional  -3.670675   \n",
       "3        3387                       Catedral Anglicana de Madrid  -3.698666   \n",
       "4        3388  Catedral Ortodoxa Griega. Santa Iglesia Catedr...  -3.672895   \n",
       "..        ...                                                ...        ...   \n",
       "293  11768905  Unión de Iglesias Cristianas Adventistas del 7...  -3.608022   \n",
       "294   7065947  Unión de Iglesias Cristianas Adventistas del 7...  -3.649838   \n",
       "295  11778015  Unión de Iglesias Cristianas Adventistas del 7...  -3.751562   \n",
       "296  11744860  Unión de Iglesias Cristianas Adventistas del 7...  -3.738156   \n",
       "297  11773010                    Yoido Full Gospel Madrid Church  -3.709605   \n",
       "\n",
       "      latitude  distancia_minima  \n",
       "0    40.387249       1494.529207  \n",
       "1    40.372800       3719.349550  \n",
       "2    40.457895        486.250462  \n",
       "3    40.426355        149.990785  \n",
       "4    40.457555        294.549185  \n",
       "..         ...               ...  \n",
       "293  40.424746       2851.695686  \n",
       "294  40.430251        295.869712  \n",
       "295  40.389475       2930.645985  \n",
       "296  40.394823       1768.087468  \n",
       "297  40.460551        445.137898  \n",
       "\n",
       "[298 rows x 5 columns]"
      ]
     },
     "execution_count": 29,
     "metadata": {},
     "output_type": "execute_result"
    }
   ],
   "source": [
    "templos_con_distancia.head(300)"
   ]
  },
  {
   "cell_type": "code",
   "execution_count": 30,
   "id": "d99d5374",
   "metadata": {},
   "outputs": [
    {
     "name": "stdout",
     "output_type": "stream",
     "text": [
      "<class 'pandas.core.frame.DataFrame'>\n",
      "RangeIndex: 298 entries, 0 to 297\n",
      "Data columns (total 5 columns):\n",
      " #   Column            Non-Null Count  Dtype  \n",
      "---  ------            --------------  -----  \n",
      " 0   id                298 non-null    object \n",
      " 1   title             298 non-null    object \n",
      " 2   longitude         298 non-null    float64\n",
      " 3   latitude          298 non-null    float64\n",
      " 4   distancia_minima  298 non-null    float64\n",
      "dtypes: float64(3), object(2)\n",
      "memory usage: 11.8+ KB\n"
     ]
    }
   ],
   "source": [
    "templos_con_distancia.info()"
   ]
  },
  {
   "cell_type": "code",
   "execution_count": 31,
   "id": "8b2d3437",
   "metadata": {},
   "outputs": [
    {
     "name": "stdout",
     "output_type": "stream",
     "text": [
      "<class 'pandas.core.frame.DataFrame'>\n",
      "RangeIndex: 298 entries, 0 to 297\n",
      "Data columns (total 4 columns):\n",
      " #   Column     Non-Null Count  Dtype  \n",
      "---  ------     --------------  -----  \n",
      " 0   id         298 non-null    object \n",
      " 1   title      298 non-null    object \n",
      " 2   longitude  298 non-null    float64\n",
      " 3   latitude   298 non-null    float64\n",
      "dtypes: float64(2), object(2)\n",
      "memory usage: 9.4+ KB\n"
     ]
    }
   ],
   "source": [
    "templos_clean.info()"
   ]
  },
  {
   "cell_type": "code",
   "execution_count": null,
   "id": "a75104d3",
   "metadata": {},
   "outputs": [],
   "source": []
  },
  {
   "cell_type": "code",
   "execution_count": null,
   "id": "c5717292",
   "metadata": {},
   "outputs": [],
   "source": []
  },
  {
   "cell_type": "code",
   "execution_count": null,
   "id": "e53e3171",
   "metadata": {},
   "outputs": [],
   "source": []
  },
  {
   "cell_type": "code",
   "execution_count": null,
   "id": "994bc3fc",
   "metadata": {},
   "outputs": [],
   "source": []
  },
  {
   "cell_type": "code",
   "execution_count": null,
   "id": "ba4aad5a",
   "metadata": {},
   "outputs": [],
   "source": []
  }
 ],
 "metadata": {
  "kernelspec": {
   "display_name": "Python (PM1)",
   "language": "python",
   "name": "pm1"
  },
  "language_info": {
   "codemirror_mode": {
    "name": "ipython",
    "version": 3
   },
   "file_extension": ".py",
   "mimetype": "text/x-python",
   "name": "python",
   "nbconvert_exporter": "python",
   "pygments_lexer": "ipython3",
   "version": "3.10.13"
  }
 },
 "nbformat": 4,
 "nbformat_minor": 5
}
