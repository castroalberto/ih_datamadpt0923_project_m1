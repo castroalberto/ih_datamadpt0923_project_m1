{
 "cells": [
  {
   "cell_type": "markdown",
   "id": "ce7d9907",
   "metadata": {},
   "source": [
    "### dev_notebook_\n",
    "\n",
    "This is your development environment...you may start:\n",
    "- Exploring your data.\n",
    "- Testing the ad-hoc methods.\n",
    "- Designing your pipeline."
   ]
  },
  {
   "cell_type": "code",
   "execution_count": 2,
   "id": "34f39f9b",
   "metadata": {},
   "outputs": [],
   "source": [
    "import pandas as pd\n",
    "import requests as re\n",
    "import geopandas"
   ]
  },
  {
   "cell_type": "code",
   "execution_count": 3,
   "id": "5a31fa3e",
   "metadata": {},
   "outputs": [],
   "source": [
    "#LEEMOS NUESTRO FICHERO\n",
    "bicimad_df = pd.read_csv('../data/bicimad_stations.csv', sep = '\\t')"
   ]
  },
  {
   "cell_type": "code",
   "execution_count": 4,
   "id": "2e45a9d1",
   "metadata": {},
   "outputs": [
    {
     "name": "stdout",
     "output_type": "stream",
     "text": [
      "<class 'pandas.core.frame.DataFrame'>\n",
      "RangeIndex: 264 entries, 0 to 263\n",
      "Data columns (total 14 columns):\n",
      " #   Column                Non-Null Count  Dtype \n",
      "---  ------                --------------  ----- \n",
      " 0   Unnamed: 0            264 non-null    int64 \n",
      " 1   id                    264 non-null    int64 \n",
      " 2   name                  264 non-null    object\n",
      " 3   light                 264 non-null    int64 \n",
      " 4   number                264 non-null    object\n",
      " 5   address               264 non-null    object\n",
      " 6   activate              264 non-null    int64 \n",
      " 7   no_available          264 non-null    int64 \n",
      " 8   total_bases           264 non-null    int64 \n",
      " 9   dock_bikes            264 non-null    int64 \n",
      " 10  free_bases            264 non-null    int64 \n",
      " 11  reservations_count    264 non-null    int64 \n",
      " 12  geometry.type         264 non-null    object\n",
      " 13  geometry.coordinates  264 non-null    object\n",
      "dtypes: int64(9), object(5)\n",
      "memory usage: 29.0+ KB\n"
     ]
    }
   ],
   "source": [
    "bicimad_df.info()"
   ]
  },
  {
   "cell_type": "code",
   "execution_count": 5,
   "id": "43f3806a",
   "metadata": {},
   "outputs": [
    {
     "name": "stdout",
     "output_type": "stream",
     "text": [
      "<class 'pandas.core.frame.DataFrame'>\n",
      "RangeIndex: 264 entries, 0 to 263\n",
      "Data columns (total 14 columns):\n",
      " #   Column                Non-Null Count  Dtype \n",
      "---  ------                --------------  ----- \n",
      " 0   Unnamed: 0            264 non-null    int64 \n",
      " 1   id                    264 non-null    int64 \n",
      " 2   name                  264 non-null    object\n",
      " 3   light                 264 non-null    int64 \n",
      " 4   number                264 non-null    object\n",
      " 5   address               264 non-null    object\n",
      " 6   activate              264 non-null    int64 \n",
      " 7   no_available          264 non-null    int64 \n",
      " 8   total_bases           264 non-null    int64 \n",
      " 9   dock_bikes            264 non-null    int64 \n",
      " 10  free_bases            264 non-null    int64 \n",
      " 11  reservations_count    264 non-null    int64 \n",
      " 12  geometry.type         264 non-null    object\n",
      " 13  geometry.coordinates  264 non-null    object\n",
      "dtypes: int64(9), object(5)\n",
      "memory usage: 29.0+ KB\n"
     ]
    }
   ],
   "source": [
    "bicimad_df.info()"
   ]
  },
  {
   "cell_type": "code",
   "execution_count": 6,
   "id": "a8a1ada5",
   "metadata": {},
   "outputs": [],
   "source": [
    "bicimad_df['longitude'] = bicimad_df.apply(lambda row: row['geometry.coordinates'].strip('[]').split(', ')[0], axis=1)"
   ]
  },
  {
   "cell_type": "code",
   "execution_count": 7,
   "id": "e2928c67",
   "metadata": {},
   "outputs": [],
   "source": [
    "bicimad_df['latitude'] = bicimad_df.apply(lambda row: row['geometry.coordinates'].strip('[]').split(', ')[1], axis=1)"
   ]
  },
  {
   "cell_type": "code",
   "execution_count": 8,
   "id": "feb3ce93",
   "metadata": {},
   "outputs": [
    {
     "data": {
      "text/html": [
       "<div>\n",
       "<style scoped>\n",
       "    .dataframe tbody tr th:only-of-type {\n",
       "        vertical-align: middle;\n",
       "    }\n",
       "\n",
       "    .dataframe tbody tr th {\n",
       "        vertical-align: top;\n",
       "    }\n",
       "\n",
       "    .dataframe thead th {\n",
       "        text-align: right;\n",
       "    }\n",
       "</style>\n",
       "<table border=\"1\" class=\"dataframe\">\n",
       "  <thead>\n",
       "    <tr style=\"text-align: right;\">\n",
       "      <th></th>\n",
       "      <th>Unnamed: 0</th>\n",
       "      <th>id</th>\n",
       "      <th>name</th>\n",
       "      <th>light</th>\n",
       "      <th>number</th>\n",
       "      <th>address</th>\n",
       "      <th>activate</th>\n",
       "      <th>no_available</th>\n",
       "      <th>total_bases</th>\n",
       "      <th>dock_bikes</th>\n",
       "      <th>free_bases</th>\n",
       "      <th>reservations_count</th>\n",
       "      <th>geometry.type</th>\n",
       "      <th>geometry.coordinates</th>\n",
       "      <th>longitude</th>\n",
       "      <th>latitude</th>\n",
       "    </tr>\n",
       "  </thead>\n",
       "  <tbody>\n",
       "    <tr>\n",
       "      <th>0</th>\n",
       "      <td>0</td>\n",
       "      <td>1</td>\n",
       "      <td>1a - Puerta del Sol A</td>\n",
       "      <td>3</td>\n",
       "      <td>1a</td>\n",
       "      <td>Puerta del Sol nº 1</td>\n",
       "      <td>1</td>\n",
       "      <td>1</td>\n",
       "      <td>30</td>\n",
       "      <td>0</td>\n",
       "      <td>0</td>\n",
       "      <td>0</td>\n",
       "      <td>Point</td>\n",
       "      <td>[-3.7018341, 40.4172137]</td>\n",
       "      <td>-3.7018341</td>\n",
       "      <td>40.4172137</td>\n",
       "    </tr>\n",
       "  </tbody>\n",
       "</table>\n",
       "</div>"
      ],
      "text/plain": [
       "   Unnamed: 0  id                   name  light number              address  \\\n",
       "0           0   1  1a - Puerta del Sol A      3     1a  Puerta del Sol nº 1   \n",
       "\n",
       "   activate  no_available  total_bases  dock_bikes  free_bases  \\\n",
       "0         1             1           30           0           0   \n",
       "\n",
       "   reservations_count geometry.type      geometry.coordinates   longitude  \\\n",
       "0                   0         Point  [-3.7018341, 40.4172137]  -3.7018341   \n",
       "\n",
       "     latitude  \n",
       "0  40.4172137  "
      ]
     },
     "execution_count": 8,
     "metadata": {},
     "output_type": "execute_result"
    }
   ],
   "source": [
    "bicimad_df.head(1)"
   ]
  },
  {
   "cell_type": "code",
   "execution_count": 9,
   "id": "0e81d46b",
   "metadata": {},
   "outputs": [],
   "source": [
    "bicipark_df = pd.read_csv('../data/bicipark_stations.csv', sep=';')"
   ]
  },
  {
   "cell_type": "code",
   "execution_count": 10,
   "id": "e3280db4",
   "metadata": {},
   "outputs": [],
   "source": [
    "bicipark_df['longitude'] = bicipark_df.apply(lambda row: row['geometry.coordinates'].strip('[]').split(', ')[0], axis=1)\n",
    "bicipark_df['latitude'] = bicipark_df.apply(lambda row: row['geometry.coordinates'].strip('[]').split(', ')[1], axis=1)"
   ]
  },
  {
   "cell_type": "code",
   "execution_count": 14,
   "id": "3a92dd6e",
   "metadata": {},
   "outputs": [],
   "source": [
    "bicipark_df[['longitude', 'latitude']] = bicipark_df.apply(lambda row: pd.Series(\n",
    "    [row['geometry.coordinates'].strip('[]').split(', ')[0], \n",
    "row['geometry.coordinates'].strip('[]').split(', ')[1]]), axis=1)"
   ]
  },
  {
   "cell_type": "code",
   "execution_count": 12,
   "id": "4c24217f",
   "metadata": {},
   "outputs": [
    {
     "data": {
      "text/html": [
       "<div>\n",
       "<style scoped>\n",
       "    .dataframe tbody tr th:only-of-type {\n",
       "        vertical-align: middle;\n",
       "    }\n",
       "\n",
       "    .dataframe tbody tr th {\n",
       "        vertical-align: top;\n",
       "    }\n",
       "\n",
       "    .dataframe thead th {\n",
       "        text-align: right;\n",
       "    }\n",
       "</style>\n",
       "<table border=\"1\" class=\"dataframe\">\n",
       "  <thead>\n",
       "    <tr style=\"text-align: right;\">\n",
       "      <th></th>\n",
       "      <th>Unnamed: 0</th>\n",
       "      <th>stationId</th>\n",
       "      <th>stationName</th>\n",
       "      <th>address</th>\n",
       "      <th>city</th>\n",
       "      <th>zip_code</th>\n",
       "      <th>total_places</th>\n",
       "      <th>free_places</th>\n",
       "      <th>enabled</th>\n",
       "      <th>reserved_places</th>\n",
       "      <th>geometry.type</th>\n",
       "      <th>geometry.coordinates</th>\n",
       "      <th>longitude</th>\n",
       "      <th>latitude</th>\n",
       "    </tr>\n",
       "  </thead>\n",
       "  <tbody>\n",
       "    <tr>\n",
       "      <th>0</th>\n",
       "      <td>0</td>\n",
       "      <td>74</td>\n",
       "      <td>Bicipark Fuente de la Mora</td>\n",
       "      <td>Estación de Fuente de la Mora</td>\n",
       "      <td>Madrid</td>\n",
       "      <td>28050</td>\n",
       "      <td>10</td>\n",
       "      <td>9</td>\n",
       "      <td>1</td>\n",
       "      <td>0</td>\n",
       "      <td>Point</td>\n",
       "      <td>[-3.6630679, 40.4846838]</td>\n",
       "      <td>-3.6630679</td>\n",
       "      <td>40.4846838</td>\n",
       "    </tr>\n",
       "    <tr>\n",
       "      <th>1</th>\n",
       "      <td>1</td>\n",
       "      <td>22</td>\n",
       "      <td>Bicipark Orense</td>\n",
       "      <td>Avenida General Perón, 27</td>\n",
       "      <td>Madrid</td>\n",
       "      <td>28020</td>\n",
       "      <td>15</td>\n",
       "      <td>9</td>\n",
       "      <td>1</td>\n",
       "      <td>1</td>\n",
       "      <td>Point</td>\n",
       "      <td>[-3.693897, 40.452973]</td>\n",
       "      <td>-3.693897</td>\n",
       "      <td>40.452973</td>\n",
       "    </tr>\n",
       "  </tbody>\n",
       "</table>\n",
       "</div>"
      ],
      "text/plain": [
       "   Unnamed: 0  stationId                 stationName  \\\n",
       "0           0         74  Bicipark Fuente de la Mora   \n",
       "1           1         22             Bicipark Orense   \n",
       "\n",
       "                         address     city zip_code  total_places  free_places  \\\n",
       "0  Estación de Fuente de la Mora   Madrid    28050            10            9   \n",
       "1      Avenida General Perón, 27   Madrid    28020            15            9   \n",
       "\n",
       "   enabled  reserved_places geometry.type      geometry.coordinates  \\\n",
       "0        1                0         Point  [-3.6630679, 40.4846838]   \n",
       "1        1                1         Point    [-3.693897, 40.452973]   \n",
       "\n",
       "    longitude    latitude  \n",
       "0  -3.6630679  40.4846838  \n",
       "1   -3.693897   40.452973  "
      ]
     },
     "execution_count": 12,
     "metadata": {},
     "output_type": "execute_result"
    }
   ],
   "source": [
    "bicipark_df.head(2)"
   ]
  },
  {
   "cell_type": "code",
   "execution_count": null,
   "id": "f51d502d-a1dc-4b77-b93a-ca7379405ef6",
   "metadata": {},
   "outputs": [],
   "source": []
  },
  {
   "cell_type": "code",
   "execution_count": 12,
   "id": "44266333",
   "metadata": {},
   "outputs": [
    {
     "name": "stdout",
     "output_type": "stream",
     "text": [
      "<Response [200]>\n"
     ]
    }
   ],
   "source": [
    "#CONECTAMOS CON LA WEB PARA OBTENER JSON\n",
    "base_url = \"https://datos.madrid.es/egob\"\n",
    "body = \"/catalogo/209434-0-templos-otros.json\"\n",
    "response = re.get(base_url + body)\n",
    "print(response)"
   ]
  },
  {
   "cell_type": "code",
   "execution_count": 13,
   "id": "bc094090",
   "metadata": {
    "scrolled": true
   },
   "outputs": [
    {
     "data": {
      "text/plain": [
       "dict_keys(['@context', '@graph'])"
      ]
     },
     "execution_count": 13,
     "metadata": {},
     "output_type": "execute_result"
    }
   ],
   "source": [
    "#ANALIZAMOS JSON\n",
    "content = response.content\n",
    "json_data = response.json()\n",
    "json_data.keys()"
   ]
  },
  {
   "cell_type": "code",
   "execution_count": 14,
   "id": "0c066637",
   "metadata": {},
   "outputs": [
    {
     "data": {
      "text/plain": [
       "dict_keys(['@context', '@graph'])"
      ]
     },
     "execution_count": 14,
     "metadata": {},
     "output_type": "execute_result"
    }
   ],
   "source": [
    "json_data.keys()"
   ]
  },
  {
   "cell_type": "code",
   "execution_count": 15,
   "id": "15ef1317",
   "metadata": {},
   "outputs": [],
   "source": [
    "df1 = pd.DataFrame(json_data['@graph'])"
   ]
  },
  {
   "cell_type": "code",
   "execution_count": 16,
   "id": "529c902d",
   "metadata": {},
   "outputs": [],
   "source": [
    "def separator_longitud_json(column): #devuelve valor como float64\n",
    "    for i in column:\n",
    "        return column[\"longitude\"]\n",
    "def separator_latitud_json(column): #devuelve valor como float64\n",
    "    for i in column:\n",
    "        return column[\"latitude\"]"
   ]
  },
  {
   "cell_type": "code",
   "execution_count": 17,
   "id": "68c59ef3-3b59-44b1-b031-2d4811181e55",
   "metadata": {},
   "outputs": [],
   "source": [
    "df1['Longitud'] = df1.apply(lambda row: separator_longitud_json(row[\"location\"]), axis=1)\n",
    "df1['Latitud'] = df1.apply(lambda row: separator_latitud_json(row[\"location\"]), axis=1)"
   ]
  },
  {
   "cell_type": "code",
   "execution_count": 18,
   "id": "57bdbd4a-b73f-4f7a-928c-917725b24bc1",
   "metadata": {},
   "outputs": [
    {
     "data": {
      "text/html": [
       "<div>\n",
       "<style scoped>\n",
       "    .dataframe tbody tr th:only-of-type {\n",
       "        vertical-align: middle;\n",
       "    }\n",
       "\n",
       "    .dataframe tbody tr th {\n",
       "        vertical-align: top;\n",
       "    }\n",
       "\n",
       "    .dataframe thead th {\n",
       "        text-align: right;\n",
       "    }\n",
       "</style>\n",
       "<table border=\"1\" class=\"dataframe\">\n",
       "  <thead>\n",
       "    <tr style=\"text-align: right;\">\n",
       "      <th></th>\n",
       "      <th>@id</th>\n",
       "      <th>@type</th>\n",
       "      <th>id</th>\n",
       "      <th>title</th>\n",
       "      <th>relation</th>\n",
       "      <th>address</th>\n",
       "      <th>location</th>\n",
       "      <th>organization</th>\n",
       "      <th>Longitud</th>\n",
       "      <th>Latitud</th>\n",
       "    </tr>\n",
       "  </thead>\n",
       "  <tbody>\n",
       "    <tr>\n",
       "      <th>0</th>\n",
       "      <td>https://datos.madrid.es/egob/catalogo/tipo/ent...</td>\n",
       "      <td>https://datos.madrid.es/egob/kos/entidadesYorg...</td>\n",
       "      <td>11772877</td>\n",
       "      <td>Asamblea Cristiana Gilgal</td>\n",
       "      <td>http://www.madrid.es/sites/v/index.jsp?vgnextc...</td>\n",
       "      <td>{'district': {'@id': 'https://datos.madrid.es/...</td>\n",
       "      <td>{'latitude': 40.38724931072868, 'longitude': -...</td>\n",
       "      <td>{'organization-desc': 'Templo evangélico.  Bus...</td>\n",
       "      <td>-3.638521</td>\n",
       "      <td>40.387249</td>\n",
       "    </tr>\n",
       "    <tr>\n",
       "      <th>1</th>\n",
       "      <td>https://datos.madrid.es/egob/catalogo/tipo/ent...</td>\n",
       "      <td>https://datos.madrid.es/egob/kos/entidadesYorg...</td>\n",
       "      <td>11025958</td>\n",
       "      <td>Asambleas de Evangelización Mundial para Crist...</td>\n",
       "      <td>http://www.madrid.es/sites/v/index.jsp?vgnextc...</td>\n",
       "      <td>{'district': {'@id': 'https://datos.madrid.es/...</td>\n",
       "      <td>{'latitude': 40.372800292475574, 'longitude': ...</td>\n",
       "      <td>{'organization-desc': 'Templo evangélico  Metr...</td>\n",
       "      <td>-3.745074</td>\n",
       "      <td>40.372800</td>\n",
       "    </tr>\n",
       "    <tr>\n",
       "      <th>2</th>\n",
       "      <td>https://datos.madrid.es/egob/catalogo/tipo/ent...</td>\n",
       "      <td>https://datos.madrid.es/egob/kos/entidadesYorg...</td>\n",
       "      <td>11026848</td>\n",
       "      <td>Asociación Evangélica Internacional</td>\n",
       "      <td>http://www.madrid.es/sites/v/index.jsp?vgnextc...</td>\n",
       "      <td>{'district': {'@id': 'https://datos.madrid.es/...</td>\n",
       "      <td>{'latitude': 40.457895405861926, 'longitude': ...</td>\n",
       "      <td>{'organization-desc': 'Templo evangélico.  Met...</td>\n",
       "      <td>-3.670675</td>\n",
       "      <td>40.457895</td>\n",
       "    </tr>\n",
       "  </tbody>\n",
       "</table>\n",
       "</div>"
      ],
      "text/plain": [
       "                                                 @id  \\\n",
       "0  https://datos.madrid.es/egob/catalogo/tipo/ent...   \n",
       "1  https://datos.madrid.es/egob/catalogo/tipo/ent...   \n",
       "2  https://datos.madrid.es/egob/catalogo/tipo/ent...   \n",
       "\n",
       "                                               @type        id  \\\n",
       "0  https://datos.madrid.es/egob/kos/entidadesYorg...  11772877   \n",
       "1  https://datos.madrid.es/egob/kos/entidadesYorg...  11025958   \n",
       "2  https://datos.madrid.es/egob/kos/entidadesYorg...  11026848   \n",
       "\n",
       "                                               title  \\\n",
       "0                          Asamblea Cristiana Gilgal   \n",
       "1  Asambleas de Evangelización Mundial para Crist...   \n",
       "2                Asociación Evangélica Internacional   \n",
       "\n",
       "                                            relation  \\\n",
       "0  http://www.madrid.es/sites/v/index.jsp?vgnextc...   \n",
       "1  http://www.madrid.es/sites/v/index.jsp?vgnextc...   \n",
       "2  http://www.madrid.es/sites/v/index.jsp?vgnextc...   \n",
       "\n",
       "                                             address  \\\n",
       "0  {'district': {'@id': 'https://datos.madrid.es/...   \n",
       "1  {'district': {'@id': 'https://datos.madrid.es/...   \n",
       "2  {'district': {'@id': 'https://datos.madrid.es/...   \n",
       "\n",
       "                                            location  \\\n",
       "0  {'latitude': 40.38724931072868, 'longitude': -...   \n",
       "1  {'latitude': 40.372800292475574, 'longitude': ...   \n",
       "2  {'latitude': 40.457895405861926, 'longitude': ...   \n",
       "\n",
       "                                        organization  Longitud    Latitud  \n",
       "0  {'organization-desc': 'Templo evangélico.  Bus... -3.638521  40.387249  \n",
       "1  {'organization-desc': 'Templo evangélico  Metr... -3.745074  40.372800  \n",
       "2  {'organization-desc': 'Templo evangélico.  Met... -3.670675  40.457895  "
      ]
     },
     "execution_count": 18,
     "metadata": {},
     "output_type": "execute_result"
    }
   ],
   "source": [
    "df1.head(3)"
   ]
  },
  {
   "cell_type": "code",
   "execution_count": 19,
   "id": "b05f86fe-bec4-42e8-aa34-94301cbbdc71",
   "metadata": {},
   "outputs": [],
   "source": [
    "df_templos = df1[['id','title','Longitud','Latitud']]"
   ]
  },
  {
   "cell_type": "code",
   "execution_count": 20,
   "id": "88b43e9c-cf3a-4f38-8a82-5a520eb2367c",
   "metadata": {},
   "outputs": [
    {
     "data": {
      "text/html": [
       "<div>\n",
       "<style scoped>\n",
       "    .dataframe tbody tr th:only-of-type {\n",
       "        vertical-align: middle;\n",
       "    }\n",
       "\n",
       "    .dataframe tbody tr th {\n",
       "        vertical-align: top;\n",
       "    }\n",
       "\n",
       "    .dataframe thead th {\n",
       "        text-align: right;\n",
       "    }\n",
       "</style>\n",
       "<table border=\"1\" class=\"dataframe\">\n",
       "  <thead>\n",
       "    <tr style=\"text-align: right;\">\n",
       "      <th></th>\n",
       "      <th>Unnamed: 0</th>\n",
       "      <th>id</th>\n",
       "      <th>name</th>\n",
       "      <th>light</th>\n",
       "      <th>number</th>\n",
       "      <th>address</th>\n",
       "      <th>activate</th>\n",
       "      <th>no_available</th>\n",
       "      <th>total_bases</th>\n",
       "      <th>dock_bikes</th>\n",
       "      <th>free_bases</th>\n",
       "      <th>reservations_count</th>\n",
       "      <th>geometry.type</th>\n",
       "      <th>geometry.coordinates</th>\n",
       "      <th>longitude</th>\n",
       "      <th>latitude</th>\n",
       "    </tr>\n",
       "  </thead>\n",
       "  <tbody>\n",
       "    <tr>\n",
       "      <th>0</th>\n",
       "      <td>0</td>\n",
       "      <td>1</td>\n",
       "      <td>1a - Puerta del Sol A</td>\n",
       "      <td>3</td>\n",
       "      <td>1a</td>\n",
       "      <td>Puerta del Sol nº 1</td>\n",
       "      <td>1</td>\n",
       "      <td>1</td>\n",
       "      <td>30</td>\n",
       "      <td>0</td>\n",
       "      <td>0</td>\n",
       "      <td>0</td>\n",
       "      <td>Point</td>\n",
       "      <td>[-3.7018341, 40.4172137]</td>\n",
       "      <td>-3.7018341</td>\n",
       "      <td>40.4172137</td>\n",
       "    </tr>\n",
       "  </tbody>\n",
       "</table>\n",
       "</div>"
      ],
      "text/plain": [
       "   Unnamed: 0  id                   name  light number              address  \\\n",
       "0           0   1  1a - Puerta del Sol A      3     1a  Puerta del Sol nº 1   \n",
       "\n",
       "   activate  no_available  total_bases  dock_bikes  free_bases  \\\n",
       "0         1             1           30           0           0   \n",
       "\n",
       "   reservations_count geometry.type      geometry.coordinates   longitude  \\\n",
       "0                   0         Point  [-3.7018341, 40.4172137]  -3.7018341   \n",
       "\n",
       "     latitude  \n",
       "0  40.4172137  "
      ]
     },
     "execution_count": 20,
     "metadata": {},
     "output_type": "execute_result"
    }
   ],
   "source": [
    "bicimad_df.head(1)"
   ]
  },
  {
   "cell_type": "code",
   "execution_count": 21,
   "id": "6733c125-3307-480f-a183-4a0801651754",
   "metadata": {},
   "outputs": [],
   "source": [
    "bicimad_df = bicimad_df[['id','address','longitude','latitude']]"
   ]
  },
  {
   "cell_type": "code",
   "execution_count": null,
   "id": "229d2b16",
   "metadata": {},
   "outputs": [],
   "source": []
  },
  {
   "cell_type": "code",
   "execution_count": null,
   "id": "ec8f2cb0",
   "metadata": {},
   "outputs": [],
   "source": []
  },
  {
   "cell_type": "code",
   "execution_count": null,
   "id": "011f5ef8",
   "metadata": {},
   "outputs": [],
   "source": []
  },
  {
   "cell_type": "code",
   "execution_count": null,
   "id": "6fe5d9d4",
   "metadata": {},
   "outputs": [],
   "source": []
  },
  {
   "cell_type": "code",
   "execution_count": null,
   "id": "a406ac2d",
   "metadata": {},
   "outputs": [],
   "source": []
  },
  {
   "cell_type": "code",
   "execution_count": null,
   "id": "95a3c978",
   "metadata": {},
   "outputs": [],
   "source": []
  },
  {
   "cell_type": "code",
   "execution_count": null,
   "id": "a2e6e3a4",
   "metadata": {},
   "outputs": [],
   "source": []
  },
  {
   "cell_type": "code",
   "execution_count": null,
   "id": "73cdb500",
   "metadata": {},
   "outputs": [],
   "source": []
  },
  {
   "cell_type": "code",
   "execution_count": null,
   "id": "4ca7ef7e",
   "metadata": {},
   "outputs": [],
   "source": []
  },
  {
   "cell_type": "code",
   "execution_count": null,
   "id": "33ae72b2",
   "metadata": {},
   "outputs": [],
   "source": []
  },
  {
   "cell_type": "code",
   "execution_count": null,
   "id": "8ce435d2",
   "metadata": {},
   "outputs": [],
   "source": []
  }
 ],
 "metadata": {
  "kernelspec": {
   "display_name": "Python (m1_env)",
   "language": "python",
   "name": "m1_env"
  },
  "language_info": {
   "codemirror_mode": {
    "name": "ipython",
    "version": 3
   },
   "file_extension": ".py",
   "mimetype": "text/x-python",
   "name": "python",
   "nbconvert_exporter": "python",
   "pygments_lexer": "ipython3",
   "version": "3.11.5"
  }
 },
 "nbformat": 4,
 "nbformat_minor": 5
}
